{
 "cells": [
  {
   "cell_type": "code",
   "execution_count": 1,
   "metadata": {},
   "outputs": [],
   "source": [
    "import os"
   ]
  },
  {
   "cell_type": "code",
   "execution_count": 2,
   "metadata": {},
   "outputs": [
    {
     "data": {
      "text/plain": [
       "'/home/suganya/Documents/Text-Summarization-Project/research'"
      ]
     },
     "execution_count": 2,
     "metadata": {},
     "output_type": "execute_result"
    }
   ],
   "source": [
    "%pwd"
   ]
  },
  {
   "cell_type": "code",
   "execution_count": 3,
   "metadata": {},
   "outputs": [],
   "source": [
    "os.chdir(\"../\")"
   ]
  },
  {
   "cell_type": "code",
   "execution_count": 4,
   "metadata": {},
   "outputs": [
    {
     "data": {
      "text/plain": [
       "'/home/suganya/Documents/Text-Summarization-Project'"
      ]
     },
     "execution_count": 4,
     "metadata": {},
     "output_type": "execute_result"
    }
   ],
   "source": [
    "%pwd"
   ]
  },
  {
   "cell_type": "code",
   "execution_count": 5,
   "metadata": {},
   "outputs": [],
   "source": [
    "from dataclasses import dataclass\n",
    "from pathlib import Path\n",
    "\n",
    "@dataclass(frozen=True)\n",
    "class DataValidationConfig:\n",
    "    root_dir: Path\n",
    "    STATUS_FILE: str\n",
    "    ALL_REQUIRED_FILES: list\n",
    "    DATA_DIR :str"
   ]
  },
  {
   "cell_type": "code",
   "execution_count": 6,
   "metadata": {},
   "outputs": [],
   "source": [
    "from textSummarizer.constants import *\n",
    "from textSummarizer.utils.common import read_yaml, create_directories"
   ]
  },
  {
   "cell_type": "code",
   "execution_count": 8,
   "metadata": {},
   "outputs": [],
   "source": [
    "class ConfigurationManager:\n",
    "    def __init__(self, config_filepath=CONFIG_FILE_PATH, params_filepath=PARAMS_FILE_PATH):\n",
    "        self.config = read_yaml(config_filepath)\n",
    "        self.params = read_yaml(params_filepath)\n",
    "        \n",
    "        # This CALLS the create_directories function (defined elsewhere)\n",
    "        create_directories([self.config.artifacts_root])\n",
    "\n",
    "    def get_data_validation_config (self) -> DataValidationConfig:\n",
    "        config = self.config.data_validation\n",
    "\n",
    "        create_directories([config.root_dir])\n",
    "\n",
    "        data_validation_config = DataValidationConfig(root_dir = config.root_dir,\n",
    "                                                      STATUS_FILE = config. STATUS_FILE,\n",
    "                                                      ALL_REQUIRED_FILES = config.ALL_REQUIRED_FILES,\n",
    "                                                      DATA_DIR=config.DATA_DIR)\n",
    "        \n",
    "        return data_validation_config\n"
   ]
  },
  {
   "cell_type": "code",
   "execution_count": 9,
   "metadata": {},
   "outputs": [],
   "source": [
    "import os\n",
    "from textSummarizer.logging import logger"
   ]
  },
  {
   "cell_type": "code",
   "execution_count": 14,
   "metadata": {},
   "outputs": [],
   "source": [
    "class DataValidation:\n",
    "    def __init__(self, config: DataValidationConfig):\n",
    "        self.config = config\n",
    "    \n",
    "    def validate_all_file_exist(self) -> bool:\n",
    "        try:\n",
    "            validation_status = True  # Start with True\n",
    "            \n",
    "            # Check if the directory exists\n",
    "            if not os.path.exists(self.config.DATA_DIR):\n",
    "                validation_status = False\n",
    "                with open(self.config.STATUS_FILE, \"w\") as f:\n",
    "                    f.write(f\"validation_status: {validation_status}\\n\")\n",
    "                    f.write(f\"Error: Directory {self.config.DATA_DIR} does not exist\")\n",
    "                return validation_status\n",
    "            \n",
    "            all_files = os.listdir(self.config.DATA_DIR)\n",
    "            \n",
    "            # Check if all required files exist\n",
    "            for required_file in self.config.ALL_REQUIRED_FILES:\n",
    "                if required_file not in all_files:\n",
    "                    validation_status = False\n",
    "                    break\n",
    "            \n",
    "            with open(self.config.STATUS_FILE, \"w\") as f:\n",
    "                f.write(f\"validation_status: {validation_status}\\n\")\n",
    "                if validation_status:\n",
    "                    f.write(f\"All required files are present: {self.config.ALL_REQUIRED_FILES}\")\n",
    "                else:\n",
    "                    f.write(f\"Missing files. Found: {all_files}\\nRequired: {self.config.ALL_REQUIRED_FILES}\")\n",
    "            \n",
    "            return validation_status\n",
    "            \n",
    "        except Exception as e:\n",
    "            raise e\n"
   ]
  },
  {
   "cell_type": "code",
   "execution_count": 15,
   "metadata": {},
   "outputs": [
    {
     "name": "stdout",
     "output_type": "stream",
     "text": [
      "[2025-10-08 16:17:04,360: INFO: common: yaml file: /home/suganya/Documents/Text-Summarization-Project/config/config.yaml loaded successfully]\n",
      "[2025-10-08 16:17:04,363: INFO: common: yaml file: /home/suganya/Documents/Text-Summarization-Project/params.yaml loaded successfully]\n",
      "[2025-10-08 16:17:04,364: INFO: common: created directory: artifacts]\n",
      "[2025-10-08 16:17:04,366: INFO: common: created directory: artifacts/data_validation]\n"
     ]
    }
   ],
   "source": [
    "try:\n",
    "\n",
    "    config = ConfigurationManager()\n",
    "    data_validation_config = config.get_data_validation_config()\n",
    "    data_validation = DataValidation(config = data_validation_config) \n",
    "    data_validation.validate_all_file_exist()\n",
    "\n",
    "except Exception as e:\n",
    "    raise e"
   ]
  },
  {
   "cell_type": "code",
   "execution_count": null,
   "metadata": {},
   "outputs": [],
   "source": []
  }
 ],
 "metadata": {
  "kernelspec": {
   "display_name": "venv",
   "language": "python",
   "name": "python3"
  },
  "language_info": {
   "codemirror_mode": {
    "name": "ipython",
    "version": 3
   },
   "file_extension": ".py",
   "mimetype": "text/x-python",
   "name": "python",
   "nbconvert_exporter": "python",
   "pygments_lexer": "ipython3",
   "version": "3.12.3"
  }
 },
 "nbformat": 4,
 "nbformat_minor": 2
}
